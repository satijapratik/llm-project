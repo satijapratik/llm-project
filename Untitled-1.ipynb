{
 "cells": [
  {
   "cell_type": "code",
   "execution_count": null,
   "metadata": {},
   "outputs": [],
   "source": [
    "from datasets import load_dataset, DatasetDict, load_from_disk, Dataset\n",
    "import json\n",
    "from transformers import LlamaTokenizer, LlamaForCausalLM, Trainer, TrainingArguments"
   ]
  },
  {
   "cell_type": "code",
   "execution_count": null,
   "metadata": {},
   "outputs": [],
   "source": [
    "import pandas as pd\n",
    "data_train = pd.read_json(\"dataset/training_data.json\")  # Use `lines=True` for line-delimited JSON\n",
    "data_test = pd.read_json(\"dataset/testing.json\")\n",
    "# print(data.head())\n"
   ]
  },
  {
   "cell_type": "code",
   "execution_count": 31,
   "metadata": {},
   "outputs": [],
   "source": [
    "data_train = data_train.astype(str)\n",
    "data_test = data_test.astype(str)\n",
    "train_dataset = Dataset.from_pandas(data_train)\n",
    "test_dataset = Dataset.from_pandas(data_test)"
   ]
  },
  {
   "cell_type": "code",
   "execution_count": null,
   "metadata": {},
   "outputs": [],
   "source": [
    "# Load the tokenizer for LLaMA\n",
    "tokenizer = LlamaTokenizer.from_pretrained('facebook/llama-8b')\n",
    "\n",
    "def tokenize_function(examples):\n",
    "    return tokenizer(examples['text'], padding=\"max_length\", truncation=True, max_length=512)\n",
    "\n",
    "# Apply tokenization\n",
    "train_dataset = train_dataset.map(tokenize_function, batched=True)"
   ]
  },
  {
   "cell_type": "code",
   "execution_count": null,
   "metadata": {},
   "outputs": [],
   "source": [
    "# Load the LLaMA model\n",
    "model = LlamaForCausalLM.from_pretrained('facebook/llama-8b')  # replace with your model path\n"
   ]
  },
  {
   "cell_type": "code",
   "execution_count": null,
   "metadata": {},
   "outputs": [],
   "source": [
    "training_args = TrainingArguments(\n",
    "    output_dir=\"./results\",  # directory to store checkpoints and results\n",
    "    evaluation_strategy=\"epoch\",  # evaluate after each epoch\n",
    "    learning_rate=2e-5,  # you can adjust this based on your experiment\n",
    "    per_device_train_batch_size=4,  # adjust based on your hardware\n",
    "    weight_decay=0.01,\n",
    "    num_train_epochs=3,  # number of epochs for training\n",
    "    logging_dir=\"./logs\",  # directory to store logs\n",
    "    save_steps=500,  # save checkpoints every 500 steps\n",
    "    save_total_limit=2,  # keep the last two checkpoints\n",
    "    remove_unused_columns=False  # prevent removing columns not used for training\n",
    ")\n",
    "# Set up the Trainer\n",
    "trainer = Trainer(\n",
    "    model=model,\n",
    "    args=training_args,\n",
    "    train_dataset=train_dataset,\n",
    "    tokenizer=tokenizer,\n",
    ")\n",
    "\n",
    "# Start fine-tuning\n",
    "trainer.train()\n",
    "\n",
    "trainer.save_model(\"./fine_tuned_llama_8b\")"
   ]
  },
  {
   "cell_type": "code",
   "execution_count": null,
   "metadata": {},
   "outputs": [],
   "source": []
  }
 ],
 "metadata": {
  "kernelspec": {
   "display_name": "llms",
   "language": "python",
   "name": "python3"
  },
  "language_info": {
   "codemirror_mode": {
    "name": "ipython",
    "version": 3
   },
   "file_extension": ".py",
   "mimetype": "text/x-python",
   "name": "python",
   "nbconvert_exporter": "python",
   "pygments_lexer": "ipython3",
   "version": "3.11.9"
  }
 },
 "nbformat": 4,
 "nbformat_minor": 2
}
